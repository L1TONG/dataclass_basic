{
 "cells": [
  {
   "cell_type": "code",
   "execution_count": null,
   "metadata": {
    "collapsed": true
   },
   "outputs": [],
   "source": [
    "'''\n",
    "【课程8.1】  文件对象声明及基本操作\n",
    "\n",
    "另一种数据格式：文件/文档\n",
    "\n",
    "'''"
   ]
  },
  {
   "cell_type": "code",
   "execution_count": 4,
   "metadata": {},
   "outputs": [
    {
     "name": "stdout",
     "output_type": "stream",
     "text": [
      "C:/Users/LITON/Desktop/text.txt\n",
      "C:\\Users\\LITON\\Desktop\\text.txt\n",
      "C:\\Users\\LITON\\Desktop\\text.txt\n"
     ]
    }
   ],
   "source": [
    "# 本地文件的界定：指向一个本地存储的文件，是一个链接或者一个映射\n",
    "\n",
    "path1 = 'C:/Users/LITON/Desktop/text.txt'  # 单个反斜杠：/\n",
    "path2 = 'C:\\\\Users\\\\LITON\\\\Desktop\\\\text.txt'  # 两个斜杠：\\\\（第一个\\是转义符）\n",
    "path3 = r'C:\\Users\\LITON\\Desktop\\text.txt'  # r用于防止字符转义\n",
    "# 路径书写格式\n",
    "print(path1)\n",
    "print(path2)\n",
    "print(path3)"
   ]
  },
  {
   "cell_type": "code",
   "execution_count": 17,
   "metadata": {},
   "outputs": [
    {
     "name": "stdout",
     "output_type": "stream",
     "text": [
      "<class '_io.TextIOWrapper'>\n",
      "<_io.TextIOWrapper name='C:\\\\Users\\\\LITON\\\\Desktop\\\\text.txt' mode='r' encoding='cp936'>\n",
      "Beautiful is better than ugly.\n",
      "Explicit is better than implicit.\n",
      "Simple is better than complex.\n",
      "Complex is better than complicated.\n",
      "Flat is better than nested.\n",
      "Sparse is better than dense.\n",
      "Readability counts.\n",
      "Special cases aren't special enough to break the rules.\n",
      "Although practicality beats purity.\n",
      "Errors should never pass silently.\n",
      "Unless explicitly silenced.\n",
      "In the face of ambiguity, refuse the temptation to guess.\n",
      "There should be one-- and preferably only one --obvious way to do it.\n",
      "Although that way may not be obvious at first unless you're Dutch.\n",
      "Now is better than never.\n",
      "Although never is often better than *right* now.\n",
      "If the implementation is hard to explain, it's a bad idea.\n",
      "If the implementation is easy to explain, it may be a good idea.\n",
      "Namespaces are one honking great idea -- let's do more of those!\n",
      "读取完毕\n"
     ]
    }
   ],
   "source": [
    "# 读取文件：open语句\n",
    "\n",
    "f = open(path2, 'r')\n",
    "print(type(f))\n",
    "print(f)\n",
    "print(f.read())\n",
    "print('读取完毕')\n",
    "# open('路径', '模式', enconding = '编码' )\n",
    "# 模式：r：读取文件，默认；w：写入；rw：读取+写入；a：追加\n",
    "# 简答的读取方法：.read() → 读取后，光标将会留在读取末尾\n"
   ]
  },
  {
   "cell_type": "code",
   "execution_count": 18,
   "metadata": {},
   "outputs": [
    {
     "name": "stdout",
     "output_type": "stream",
     "text": [
      "\n",
      "读取为空\n",
      "Beautiful is better than ugly.\n",
      "Explicit is better than implicit.\n",
      "Simple is better than complex.\n",
      "Complex is better than complicated.\n",
      "Flat is better than nested.\n",
      "Sparse is better than dense.\n",
      "Readability counts.\n",
      "Special cases aren't special enough to break the rules.\n",
      "Although practicality beats purity.\n",
      "Errors should never pass silently.\n",
      "Unless explicitly silenced.\n",
      "In the face of ambiguity, refuse the temptation to guess.\n",
      "There should be one-- and preferably only one --obvious way to do it.\n",
      "Although that way may not be obvious at first unless you're Dutch.\n",
      "Now is better than never.\n",
      "Although never is often better than *right* now.\n",
      "If the implementation is hard to explain, it's a bad idea.\n",
      "If the implementation is easy to explain, it may be a good idea.\n",
      "Namespaces are one honking great idea -- let's do more of those!\n",
      "第二次读取\n"
     ]
    }
   ],
   "source": [
    "print(f.read()) \n",
    "print('读取为空')\n",
    "# 运行第一次.read()之后，光标位于末尾，再次读取输出为空\n",
    "\n",
    "f.seek(0)\n",
    "print(f.read()) \n",
    "print('第二次读取')\n",
    "# 所以现在用 f.seek(0) 来移动光标\n",
    "\n",
    "f.close()\n",
    "# print(f.read())   # 关闭后无法读取\n",
    "# 关闭文件链接  f.close()，养成一个好习惯"
   ]
  },
  {
   "cell_type": "code",
   "execution_count": null,
   "metadata": {
    "collapsed": true
   },
   "outputs": [],
   "source": [
    "'''\n",
    "【课程8.2】  系统模块下的路径操作\n",
    "\n",
    "os 模块：提供了非常丰富的方法用来处理文件和目录\n",
    "\n",
    "'''"
   ]
  },
  {
   "cell_type": "code",
   "execution_count": 19,
   "metadata": {},
   "outputs": [
    {
     "name": "stdout",
     "output_type": "stream",
     "text": [
      "nt\n",
      "C:\\Users\\LITON\\OneDrive\\python_work\\2002\\02-基础语言入门\n",
      "['.ipynb_checkpoints', 'CH02变量及数据类型.ipynb', 'CH03序列及通用操作.ipynb', 'CH04字典映射.ipynb', 'CH05条件及循环语句.ipynb', 'CH06函数.ipynb', 'CH07模块与包.ipynb', 'CH08数据读写.ipynb', '项目01商铺数据加载及存储.ipynb', '项目02基于Python的算法函数创建.ipynb']\n",
      "('C:\\\\Users\\\\liton\\\\Desktop', 'text.txt')\n",
      "False\n",
      "True\n"
     ]
    }
   ],
   "source": [
    "# os模块：系统模块 - 常用命令\n",
    "\n",
    "import os  # 导入模块\n",
    "\n",
    "print(os.name)  # 输出字符串指示正在使用的平台。如果是window 则用'nt'表示，对Linux/Unix用户，它是'posix'。\n",
    "\n",
    "print(os.getcwd())  # 函数得到当前工作目录，即当前Python脚本工作的目录路径。\n",
    "\n",
    "print(os.listdir())  # 返回指定目录下的所有文件和目录名。\n",
    "\n",
    "#os.chdir('C:\\\\Users\\\\Hjx\\\\Desktop\\\\' )  # 切换到目标路径\n",
    "#print(os.getcwd()) \n",
    "\n",
    "#os.remove('text2.txt')  # 删除一个文件\n",
    "\n",
    "print(os.path.split('C:\\\\Users\\\\liton\\\\Desktop\\\\text.txt'))  # 函数返回一个路径的目录名和文件名\n",
    "\n",
    "print(os.path.exists('C:\\\\Users\\\\liton\\\\Desktop\\\\heheh.txt'))\n",
    "print(os.path.exists('C:\\\\Users\\\\liton\\\\Desktop\\\\'))\n",
    "# 用来检验给出的路径是否真地存在，这里不存在改文件故False，但路径存在故True"
   ]
  },
  {
   "cell_type": "code",
   "execution_count": 20,
   "metadata": {},
   "outputs": [
    {
     "name": "stdout",
     "output_type": "stream",
     "text": [
      "Beautiful is better than ugly.\n",
      "Explicit is better than implicit.\n",
      "Simple is better than complex.\n",
      "Complex is better than complicated.\n",
      "Flat is better than nested.\n",
      "Sparse is better than dense.\n",
      "Readability counts.\n",
      "Special cases aren't special enough to break the rules.\n",
      "Although practicality beats purity.\n",
      "Errors should never pass silently.\n",
      "Unless explicitly silenced.\n",
      "In the face of ambiguity, refuse the temptation to guess.\n",
      "There should be one-- and preferably only one --obvious way to do it.\n",
      "Although that way may not be obvious at first unless you're Dutch.\n",
      "Now is better than never.\n",
      "Although never is often better than *right* now.\n",
      "If the implementation is hard to explain, it's a bad idea.\n",
      "If the implementation is easy to explain, it may be a good idea.\n",
      "Namespaces are one honking great idea -- let's do more of those!\n"
     ]
    }
   ],
   "source": [
    "# 相对路径和绝对路径\n",
    "\n",
    "os.chdir('C:\\\\Users\\\\liton\\\\Desktop\\\\' )\n",
    "f2 = open('text.txt','r')\n",
    "print(f2.read())\n",
    "# 在申明了目录之后，就可以直接输出文件名了 → 相对路径"
   ]
  },
  {
   "cell_type": "code",
   "execution_count": null,
   "metadata": {
    "collapsed": true
   },
   "outputs": [],
   "source": [
    "'''\n",
    "【课程8.3】  文件的读取与写入\n",
    "\n",
    "os 模块：提供了非常丰富的方法用来处理文件和目录\n",
    "\n",
    "'''"
   ]
  },
  {
   "cell_type": "code",
   "execution_count": 22,
   "metadata": {},
   "outputs": [
    {
     "name": "stdout",
     "output_type": "stream",
     "text": [
      "Beautiful is better than ugly.\n",
      "Explicit is better than implicit.\n",
      "Simple is better than complex.\n",
      "Complex is better than complicated.\n",
      "Flat is better than nested.\n",
      "Sparse is better than dense.\n",
      "Readability counts.\n",
      "Special cases aren't special enough to break the rules.\n",
      "Although practicality beats purity.\n",
      "Errors should never pass silently.\n",
      "Unless explicitly silenced.\n",
      "In the face of ambiguity, refuse the temptation to guess.\n",
      "There should be one-- and preferably only one --obvious way to do it.\n",
      "Although that way may not be obvious at first unless you're Dutch.\n",
      "Now is better than never.\n",
      "Although never is often better than *right* now.\n",
      "If the implementation is hard to explain, it's a bad idea.\n",
      "If the implementation is easy to explain, it may be a good idea.\n",
      "Namespaces are one honking great idea -- let's do more of those!\n"
     ]
    }
   ],
   "source": [
    "# 文件读取 - read\n",
    "\n",
    "f = open('C:\\\\Users\\\\liton\\\\Desktop\\\\text.txt', 'r')\n",
    "print(f.read())\n",
    "# 直接读取（这里光标默认会在最末尾）"
   ]
  },
  {
   "cell_type": "code",
   "execution_count": 23,
   "metadata": {},
   "outputs": [
    {
     "name": "stdout",
     "output_type": "stream",
     "text": [
      "Be\n"
     ]
    }
   ],
   "source": [
    "f.seek(0)\n",
    "print(f.read(2))\n",
    "# f.read(n):n代表读取多少个字符"
   ]
  },
  {
   "cell_type": "code",
   "execution_count": 24,
   "metadata": {},
   "outputs": [
    {
     "name": "stdout",
     "output_type": "stream",
     "text": [
      "Beautiful is better than ugly.\n",
      "\n",
      "Explicit is better than implicit.\n",
      "\n",
      "Simp\n"
     ]
    }
   ],
   "source": [
    "f.seek(0)\n",
    "print(f.readline())\n",
    "print(f.readline())\n",
    "print(f.readline(4))\n",
    "# 读取行到字符串，一次性读取一行\n",
    "# f.readline(n)：读取该行的前n个字符"
   ]
  },
  {
   "cell_type": "code",
   "execution_count": 8,
   "metadata": {},
   "outputs": [
    {
     "name": "stdout",
     "output_type": "stream",
     "text": [
      "<class 'str'> The Zen of Python, by Tim Peters\n",
      "\n",
      "<class 'str'> Beautiful is better than ugly.\n",
      "\n",
      "<class 'str'> Explicit is better than implicit.\n",
      "\n",
      "<class 'str'> Simple is better than complex.\n"
     ]
    }
   ],
   "source": [
    "f.seek(0)\n",
    "for line in f.readlines():\n",
    "    print(type(line),line)\n",
    "# 遍历一个文件：for语句+f.readlines()"
   ]
  },
  {
   "cell_type": "markdown",
   "metadata": {},
   "source": [
    "小作业\n",
    "\n",
    "利用百度POI小插件爬取一些poi数据，然后存成txt，再用python读取，编写成一个json形式（列表字典）：\n",
    "\n",
    "[{'name':'...', 'lng':..., 'lat':..., 'address':'...'},{...},...,]"
   ]
  },
  {
   "cell_type": "code",
   "execution_count": 42,
   "metadata": {},
   "outputs": [
    {
     "name": "stdout",
     "output_type": "stream",
     "text": [
      "集渔·泰式海鲜火锅(中山公园龙之梦店):121.423078,31.225042,长宁路1018号中山公园龙之梦购物中心6103-6109红中庭\n",
      "\n",
      "上上谦火锅(龙之梦购物中心店):121.423744,31.225098,上海市长宁区长宁路1018号龙之梦购物中心F5\n",
      "\n",
      "新辣道鱼火锅(龙之梦购物中心店):121.423567,31.225539,上海市长宁区长宁路1018号龙之梦购物中心F6\n",
      "\n",
      "八合里海记(长宁龙之梦店):121.422439,31.225647,上海市长宁区长宁路1018号龙之梦购物中心F8\n",
      "\n",
      "嗨锅(中山公园店):121.428451,31.224018,上海市长宁区定西路1550号2楼(近愚园路)\n",
      "\n",
      "小肥羊火锅(中山龙之梦店):121.423105,31.225597,长宁路1018号龙之梦购物中心7楼7045商铺\n",
      "\n",
      "大渝火锅(来福士广场店):121.421509,31.221772,上海市长宁区长宁路1139号来福士广场F6\n",
      "\n",
      "小龙坎老火锅(玫瑰坊店):121.424472,31.225441,上海市长宁区长宁路890号玫瑰坊1层F27室、2层F58室\n",
      "\n",
      "哥老官重庆美蛙鱼头(龙之梦购物中心店):121.423127,31.225848,上海市长宁区长宁路1018号龙之梦购物中心F6\n",
      "\n",
      "温野菜日本涮涮锅(龙之梦店):121.42327,31.225122,上海市长宁区长宁路1018号-7层-7206B号-商铺\n",
      "\n",
      "锅内锅外(龙之梦购物公园店):121.423675,31.224978,上海市长宁区长宁路1018号龙之梦购物中心F7\n",
      "\n",
      "海底捞火锅(龙之梦购物中心店):121.423901,31.225385,上海市长宁区长宁路1018号龙之梦购物中心8-9层\n",
      "\n",
      "凑凑(来福士广场店):121.420191,31.222794,上海市长宁区长宁路1139号来福士广场F4\n",
      "\n",
      "串行天下(龙之梦购物中心店):121.423556,31.224648,上海市长宁区长宁路1018号龙之梦购物中心B2\n",
      "\n",
      "皇城根老北京火锅(华宁·弘基生活中心店):121.428894,31.223852,上海市长宁区宣化路300号华宁·弘基生活中心F4\n",
      "\n",
      "红唇串串香(龙之梦大厦店):121.423743,31.224659,上海市长宁区长宁路1018号龙之梦购物中心B2\n",
      "\n",
      "川西坝子火锅:121.428327,31.223306,上海市长宁区定西路1309号附近\n",
      "\n",
      "老北京羊蝎子火锅(中山公园店):121.428203,31.223144,上海市长宁区华阳路街道定西路1313号鑫茂商厦老北京羊蝎子火锅\n",
      "\n",
      "大龙燚火锅(娄山关路店):121.411499,31.221076,长宁区娄山关路882号\n",
      "\n",
      "熊猫老灶火锅(延安西路店):121.430352,31.215668,延安西路1394号(定西路口)\n",
      "\n",
      "圈儿潮汕牛肉火锅:121.430382,31.21508,上海市长宁区上海影城新华路定西路786号\n",
      "\n",
      "南门涮肉(中山公园店):121.4282,31.223292,上海市长宁区定西路1313号鑫茂商厦2楼202室\n",
      "\n",
      "小肥羊(延安西路店):121.436316,31.218779,上海市长宁区延安西路1033号大众金融大厦101单元\n",
      "\n",
      "虾趣老城区重庆炭火蛙锅(中山公园店):121.428283,31.222967,上海市长宁区定西路1313号鑫茂商厦2楼203(巴黎春天百货对面)\n",
      "\n",
      "奇门涮肉(中山公园店):121.429172,31.224987,愚园路1389号\n",
      "\n",
      "蜀大侠四川传统主义火锅(巴黎春天婚纱摄影店):121.408126,31.217647,上海市长宁区天山路762号巴黎春天F3\n",
      "\n",
      "稻香海鲜火锅酒家(金虹桥商场店):121.408192,31.215374,上海市长宁区茅台路179号金虹桥商场F3\n",
      "\n",
      "小辉哥火锅(虹桥南丰城店):121.414015,31.214289,上海市长宁区遵义路100号虹桥南丰城F5\n",
      "\n",
      "百素.炭火蛙锅(中山公园一店):121.428631,31.223578,上海市长宁区宣化路300号华宁弘基生活中心3层\n",
      "\n",
      "洞子张火锅(汇金百货店):121.411635,31.217618,上海市长宁区娄山关路900号汇金百货F6\n",
      "\n",
      "丽江印象斑鱼府(静安店):121.438649,31.237906,上海市静安区武宁南路381号\n",
      "\n",
      "聚酒锅(金虹桥商场店):121.408923,31.214438,上海市长宁区茅台路179号金虹桥商场F3\n",
      "\n",
      "井格老灶火锅(百盛优客城市广场店):121.40929,31.216581,上海市长宁区天山路789号百盛优客城市广场F5\n",
      "\n",
      "巴奴毛肚火锅(环球港店):121.418503,31.239048,中山北路3300号环球港L3层(环球港三楼L3017)\n",
      "\n",
      "天辣绿色时尚餐厅(金虹桥商场店):121.409752,31.214068,上海市长宁区茅台路179号金虹桥商场B1\n",
      "\n",
      "哈尼石锅鱼(金虹桥商场店):121.408057,31.214956,上海市长宁区茅台路179号金虹桥商场F3\n",
      "\n",
      "蜀大侠火锅(长寿路店):121.434528,31.238141,普陀区长寿路1080号一楼东侧-1\n",
      "\n",
      "谭鸭血老火锅(环球港旗舰店):121.418871,31.23979,上海市普陀区中山北路3300号环球港F4\n",
      "\n",
      "五月罗马海鲜自助餐厅(上海环球港店):121.419359,31.239083,上海市普陀区中山北路3300号环球港F3\n",
      "\n",
      "红盔甲(定西路店):121.429895,31.215456,上海市长宁区定西路825-1号铁科院2号院北区1号楼103室我的中国梦证件摄影旁边\n",
      "\n"
     ]
    }
   ],
   "source": [
    "# 答案代码\n",
    "\n",
    "path = 'C:\\\\Users\\\\liton\\\\Desktop\\\\huoguo.txt'  # 创建路径变量\n",
    "f = open(path,'r')  # 读取txt文件\n",
    "for line in f.readlines():\n",
    "    print(line)"
   ]
  },
  {
   "cell_type": "code",
   "execution_count": null,
   "metadata": {},
   "outputs": [],
   "source": []
  },
  {
   "cell_type": "code",
   "execution_count": 39,
   "metadata": {},
   "outputs": [
    {
     "name": "stdout",
     "output_type": "stream",
     "text": [
      "[]\n",
      "\n",
      "数据转换完成！总共转换0个数据\n"
     ]
    }
   ],
   "source": [
    "m = []  # 新建一个空列表，用于存储数据\n",
    "n = 0\n",
    "for line in f.readlines():\n",
    "    n += 1\n",
    "    st1 = line.split(':')\n",
    "    name = st1[0]   # 先以:拆分，筛选出name文本\n",
    "    information = st1[1]  # 第二部分包括lng，lat，address\n",
    "    st2 = information.split(',')\n",
    "    lng = float(st2[0])  # 筛选出lng\n",
    "    lat = float(st2[1])  # 筛选出lat\n",
    "    ad = st2[2].strip()  # 筛选出address，去除末尾空格\n",
    "    data = [['name',name],['lng',lng],['lat',lat],['address',ad]]  # 做成嵌套列表\n",
    "    m.append(dict(data))  # 生成字典，并追加如列表m\n",
    "    #print('成功转换%i个数据'%n)\n",
    "\n",
    "print(m)\n",
    "print('\\n数据转换完成！总共转换%i个数据'%n)"
   ]
  },
  {
   "cell_type": "code",
   "execution_count": 11,
   "metadata": {},
   "outputs": [
    {
     "data": {
      "text/plain": [
       "12"
      ]
     },
     "execution_count": 11,
     "metadata": {},
     "output_type": "execute_result"
    }
   ],
   "source": [
    "# 文件写入 - write\n",
    "\n",
    "path =  'C:\\\\Users\\\\Hjx\\\\Desktop\\\\test_write.txt' \n",
    "f = open(path, 'w', encoding = 'utf8')\n",
    "f.write('hello world!')\n",
    "# 执行后直接创建“test_write.txt”文件，并写入“hello world！”\n",
    "# 12代表输入了12个字符，但是文件内真的有写入吗？打开看看"
   ]
  },
  {
   "cell_type": "code",
   "execution_count": 12,
   "metadata": {
    "collapsed": true
   },
   "outputs": [],
   "source": [
    "f.close()\n",
    "# 为什么没有？因为刚才是在内存里运行，我们需要再加上close才能写入"
   ]
  },
  {
   "cell_type": "code",
   "execution_count": 13,
   "metadata": {
    "collapsed": true
   },
   "outputs": [],
   "source": [
    "path =  'C:\\\\Users\\\\Hjx\\\\Desktop\\\\' \n",
    "f = open(path + 'test_write2.txt', 'w', encoding = 'utf8')\n",
    "lst = ['a','b','c','d','e']\n",
    "f.writelines(lst)\n",
    "f.close()\n",
    "# f.writelines(list)：依次把列表元素写入，但这里有没有提行？\n",
    "# 如果想每一个元素提行怎么办？ → 每个元素后都有\"\\n\""
   ]
  },
  {
   "cell_type": "code",
   "execution_count": 14,
   "metadata": {
    "collapsed": true
   },
   "outputs": [],
   "source": [
    "path =  'C:\\\\Users\\\\Hjx\\\\Desktop\\\\' \n",
    "f = open(path + 'test_write2.txt', 'w', encoding = 'utf8')\n",
    "lst = ['a','b','c','d','e']\n",
    "\n",
    "for i in range(len(lst)):\n",
    "    lst[i] = lst[i] + '\\n'\n",
    "    \n",
    "f.writelines(lst)\n",
    "f.close()\n",
    "# 通过遍历给每个元素最后加上\"\\n\""
   ]
  },
  {
   "cell_type": "markdown",
   "metadata": {},
   "source": [
    "小作业\n",
    "\n",
    "两个列表[1~10],[a~j]，写入一个txt，变成以下格式\n",
    "\n",
    "1,a\n",
    "\n",
    "2,b\n",
    "\n",
    "3,c\n",
    "\n",
    "..."
   ]
  },
  {
   "cell_type": "code",
   "execution_count": 15,
   "metadata": {},
   "outputs": [
    {
     "name": "stdout",
     "output_type": "stream",
     "text": [
      "finished!\n"
     ]
    }
   ],
   "source": [
    "# 答案代码\n",
    "\n",
    "n = list(range(1,11))\n",
    "v = ['a','b','c','d','e','f','g','h','i','j']\n",
    "\n",
    "f = open( 'C:\\\\Users\\\\Hjx\\\\Desktop\\\\test_write3.txt', 'w', encoding = 'utf8')\n",
    "m = []\n",
    "\n",
    "for i in range(len(n)):\n",
    "    f.writelines([str(n[i]),',',v[i] + '\\n'])\n",
    "\n",
    "f.close()\n",
    "print('finished!')"
   ]
  },
  {
   "cell_type": "code",
   "execution_count": null,
   "metadata": {
    "collapsed": true
   },
   "outputs": [],
   "source": [
    "'''\n",
    "【课程8.4】  pickle模块的运用\n",
    "\n",
    "pickle提供了一个简单的持久化功能。可以将对象以文件的形式存放在磁盘上。\n",
    "\n",
    "python的pickle模块实现了基本的数据序列和反序列化\n",
    "\n",
    "通过pickle模块的序列化操作我们能够将程序中运行的对象信息保存到文件中去，永久存储\n",
    "\n",
    "通过pickle模块的反序列化操作，我们能够从文件中创建上一次程序保存的对象。\n",
    "\n",
    "pickle.dump() / pickle.load()\n",
    "\n",
    "'''"
   ]
  },
  {
   "cell_type": "code",
   "execution_count": 16,
   "metadata": {},
   "outputs": [
    {
     "name": "stdout",
     "output_type": "stream",
     "text": [
      "{'c': 'hello', 'b': ('string', 'abc'), 'a': [1, 2, 3, 4]}\n"
     ]
    }
   ],
   "source": [
    "# 存储：pickle.dump(obj, file, [,protocol])\n",
    "\n",
    "import pickle\n",
    "\n",
    "data = {'a':[1,2,3,4], 'b':('string','abc'), 'c':'hello'}\n",
    "print(data)\n",
    "# 创建一个字典变量data\n",
    "\n",
    "pic = open( 'C:\\\\Users\\\\Hjx\\\\Desktop\\\\data.pkl', 'wb')\n",
    "# 以二进制来存储：rb, wb, wrb, ab\n",
    "\n",
    "pickle.dump(data,pic)\n",
    "pic.close()\n",
    "# 将一个字典数据存成了pkl文件"
   ]
  },
  {
   "cell_type": "code",
   "execution_count": 17,
   "metadata": {},
   "outputs": [
    {
     "name": "stdout",
     "output_type": "stream",
     "text": [
      "{'c': 'hello', 'a': [1, 2, 3, 4], 'b': ('string', 'abc')}\n"
     ]
    }
   ],
   "source": [
    "# 读取：pickle.load(file)\n",
    "\n",
    "f = open( 'C:\\\\Users\\\\Hjx\\\\Desktop\\\\data.pkl', 'rb')\n",
    "\n",
    "st = pickle.load(f)\n",
    "print(st)\n",
    "# 直接读取pkl文件内的数据，该数据为一个字典"
   ]
  }
 ],
 "metadata": {
  "anaconda-cloud": {},
  "kernelspec": {
   "display_name": "Python 3",
   "language": "python",
   "name": "python3"
  },
  "language_info": {
   "codemirror_mode": {
    "name": "ipython",
    "version": 3
   },
   "file_extension": ".py",
   "mimetype": "text/x-python",
   "name": "python",
   "nbconvert_exporter": "python",
   "pygments_lexer": "ipython3",
   "version": "3.7.3"
  }
 },
 "nbformat": 4,
 "nbformat_minor": 1
}
