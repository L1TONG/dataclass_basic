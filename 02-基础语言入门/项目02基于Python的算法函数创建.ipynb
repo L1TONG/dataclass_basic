{
 "cells": [
  {
   "cell_type": "code",
   "execution_count": 1,
   "metadata": {},
   "outputs": [
    {
     "data": {
      "text/plain": [
       "'\\n【项目02】  基于Python的算法函数创建\\n\\n作业要求：\\n根据不同题目，完成代码书写并成功运行\\n\\n'"
      ]
     },
     "execution_count": 1,
     "metadata": {},
     "output_type": "execute_result"
    }
   ],
   "source": [
    "'''\n",
    "【项目02】  基于Python的算法函数创建\n",
    "\n",
    "作业要求：\n",
    "根据不同题目，完成代码书写并成功运行\n",
    "\n",
    "'''"
   ]
  },
  {
   "cell_type": "code",
   "execution_count": 2,
   "metadata": {},
   "outputs": [],
   "source": [
    "# 题目1：有1、2、3、4个数字，能组成多少个互不相同且无重复数字的两位数？都是多少？\n",
    "# 该题目不用创建函数"
   ]
  },
  {
   "cell_type": "code",
   "execution_count": 11,
   "metadata": {},
   "outputs": [
    {
     "name": "stdout",
     "output_type": "stream",
     "text": [
      "['123', '124', '132', '134', '142', '143', '213', '214', '231', '234', '241', '243', '312', '314', '321', '324', '341', '342', '412', '413', '421', '423', '431', '432'] \n",
      " 24\n"
     ]
    }
   ],
   "source": [
    "lst = []\n",
    "for i in range(1,5):\n",
    "    for m in range(1,5):\n",
    "        for n in range (1,5):\n",
    "            if i!= m and m != n and i!=n:\n",
    "                lst.append('%d%d%d'%(i,m,n))\n",
    "\n",
    "print(lst,'\\n',len(lst))"
   ]
  },
  {
   "cell_type": "code",
   "execution_count": 12,
   "metadata": {},
   "outputs": [],
   "source": [
    "# 题目2：输入三个整数x,y,z，请把这三个数由小到大输出，可调用input()。（需要加判断：判断输入数据是否为数字）\n",
    "# 提示：判断是否为数字：.isdigit()\n",
    "# 该题目需要创建函数"
   ]
  },
  {
   "cell_type": "code",
   "execution_count": 29,
   "metadata": {},
   "outputs": [
    {
     "name": "stdout",
     "output_type": "stream",
     "text": [
      "请输入第一个整数：7\n",
      "请输入第二个整数：5\n",
      "请输入第三个整数：3\n",
      "[3, 5, 7]\n"
     ]
    }
   ],
   "source": [
    "a = int(input('请输入第一个整数：'))\n",
    "b = int(input('请输入第二个整数：'))\n",
    "c = int(input('请输入第三个整数：'))\n",
    "lst = [a,b,c]    \n",
    "print(sorted(lst))   "
   ]
  },
  {
   "cell_type": "code",
   "execution_count": 58,
   "metadata": {},
   "outputs": [
    {
     "ename": "SyntaxError",
     "evalue": "invalid character in identifier (<ipython-input-58-483756b57534>, line 18)",
     "output_type": "error",
     "traceback": [
      "\u001b[1;36m  File \u001b[1;32m\"<ipython-input-58-483756b57534>\"\u001b[1;36m, line \u001b[1;32m18\u001b[0m\n\u001b[1;33m    else:\u001b[0m\n\u001b[1;37m    ^\u001b[0m\n\u001b[1;31mSyntaxError\u001b[0m\u001b[1;31m:\u001b[0m invalid character in identifier\n"
     ]
    }
   ],
   "source": [
    "st = \"我爱中国 abcd 123 &*\"\n",
    "num = []\n",
    "zh = []\n",
    "en = []\n",
    "other = []\n",
    "space = []\n",
    "dic = {}\n",
    "\n",
    "for s in st:\n",
    "    if s.isdigit():\n",
    "        num.append(s)\n",
    "    elif s.isspace():\n",
    "        space.append(s)\n",
    "    elif s >= u'\\u4e00' and s <= u'\\u9fa5':\n",
    "        zh.append(s)\n",
    "    elif (s >= u'\\u0041' and s <= u'\\u005a') or (s >= u'\\u0061' and s <= u'\\u007a'):\n",
    "        en.append(s)\n",
    "    else:\n",
    "        other.append(s)\n",
    "print(type(len(num)))\n",
    "print(\"数字的个数：{}\\n中文的个数：{}\\n英文的个数：{}\\n空格的个数：{}\\n其他字符的个数：{}\\n\" .format(str(len(num)), str(len(zh)), str(len(en)), str(len(space)), str(len(other))))\n"
   ]
  },
  {
   "cell_type": "code",
   "execution_count": 54,
   "metadata": {},
   "outputs": [
    {
     "name": "stdout",
     "output_type": "stream",
     "text": [
      "True\n",
      "True\n",
      "True\n",
      "True\n",
      "True\n",
      "True\n",
      "False\n",
      "False\n",
      "False\n",
      "False\n",
      "True\n",
      "True\n",
      "True\n"
     ]
    }
   ],
   "source": [
    "a = '123443asdg561'\n",
    "for b in a:\n",
    "    print(b.isdigit())"
   ]
  },
  {
   "cell_type": "code",
   "execution_count": 55,
   "metadata": {},
   "outputs": [],
   "source": [
    "# 题目3：输入一行字符，分别统计出其中英文字母、空格、数字和其它字符的个数。\n",
    "# 提示：利用while语句,条件为输入的字符不为'\\n'.\n",
    "# 该题目不需要创建函数"
   ]
  },
  {
   "cell_type": "code",
   "execution_count": 59,
   "metadata": {},
   "outputs": [
    {
     "name": "stdout",
     "output_type": "stream",
     "text": [
      "输入一段字符串ayvfkhj23466 563 \n",
      "数字8，字母7，空格2，其他0\n"
     ]
    }
   ],
   "source": [
    "s=input(\"输入一段字符串\")\n",
    "dig=0\n",
    "alp=0\n",
    "spa=0\n",
    "others=0\n",
    "for i in s:\n",
    "    if i.isdigit():\n",
    "        dig+=1\n",
    "    elif i.isalpha():\n",
    "        alp+=1\n",
    "    elif i.isspace():\n",
    "        spa+=1\n",
    "    else:\n",
    "        others+=1\n",
    "print('数字{}，字母{}，空格{}，其他{}'.format(dig,alp,spa,others))\n",
    " "
   ]
  },
  {
   "cell_type": "code",
   "execution_count": 60,
   "metadata": {},
   "outputs": [],
   "source": [
    "# 题目4：猴子吃桃问题\n",
    "# 猴子第一天摘下若干个桃子，当即吃了一半，还不瘾，又多吃了一个,\n",
    "# 第二天早上又将剩下的桃子吃掉一半，又多吃了一个。\n",
    "# 以后每天早上都吃了前一天剩下的一半零一个。到第10天早上想再吃时，见只剩下一个桃子了。求第一天共摘了多少?\n",
    "# 提示：采取逆向思维的方法，从后往前推断。\n",
    "# 该题目不需要创建函数"
   ]
  },
  {
   "cell_type": "code",
   "execution_count": 61,
   "metadata": {},
   "outputs": [
    {
     "name": "stdout",
     "output_type": "stream",
     "text": [
      "第9天，剩下4个\n",
      "第8天，剩下10个\n",
      "第7天，剩下22个\n",
      "第6天，剩下46个\n",
      "第5天，剩下94个\n",
      "第4天，剩下190个\n",
      "第3天，剩下382个\n",
      "第2天，剩下766个\n",
      "第1天，剩下1534个\n"
     ]
    }
   ],
   "source": [
    "ai=1\n",
    "sum=0\n",
    "for i in range(9,0,-1):#注意倒着数步长=-1   \n",
    "    sum+=ai\n",
    "    ai=2*(ai+1)  \n",
    "    print('第{}天，剩下{}个'.format(i,ai))"
   ]
  },
  {
   "cell_type": "code",
   "execution_count": 62,
   "metadata": {},
   "outputs": [],
   "source": [
    "# 题目5：猜数字问题，要求如下：\n",
    "# ① 随机生成一个整数\n",
    "# ② 猜一个数字并输入\n",
    "# ③ 判断是大是小，直到猜正确\n",
    "# ④ 判断时间\n",
    "# 提示：需要用time模块、random模块\n",
    "# 该题目不需要创建函数"
   ]
  },
  {
   "cell_type": "code",
   "execution_count": 63,
   "metadata": {},
   "outputs": [
    {
     "name": "stdout",
     "output_type": "stream",
     "text": [
      "1\n",
      "猜一个数字0-105\n",
      "大了，再来2\n",
      "大了，再来1\n",
      "corrert!1花费时间5.8400208950042725\n"
     ]
    }
   ],
   "source": [
    "import random,time\n",
    "n=random.randint(0,10)\n",
    "print(n)\n",
    "start=time.time()\n",
    "s=input('猜一个数字0-10')\n",
    "#print(s)\n",
    "\n",
    "while not (int(s)==n):\n",
    "    if(int(s)>n):\n",
    "        s=input('大了，再来')\n",
    "    elif int(s)<n :\n",
    "        s=input('小了，再来')\n",
    "end=time.time()\n",
    "\n",
    "print('corrert!{}花费时间{}'.format(int(s),end-start))"
   ]
  },
  {
   "cell_type": "code",
   "execution_count": null,
   "metadata": {},
   "outputs": [],
   "source": []
  }
 ],
 "metadata": {
  "anaconda-cloud": {},
  "kernelspec": {
   "display_name": "Python 3",
   "language": "python",
   "name": "python3"
  },
  "language_info": {
   "codemirror_mode": {
    "name": "ipython",
    "version": 3
   },
   "file_extension": ".py",
   "mimetype": "text/x-python",
   "name": "python",
   "nbconvert_exporter": "python",
   "pygments_lexer": "ipython3",
   "version": "3.7.3"
  }
 },
 "nbformat": 4,
 "nbformat_minor": 1
}
