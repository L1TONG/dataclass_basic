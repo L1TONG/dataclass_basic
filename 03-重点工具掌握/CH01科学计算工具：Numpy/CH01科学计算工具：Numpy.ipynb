{
 "cells": [
  {
   "cell_type": "code",
   "execution_count": null,
   "metadata": {
    "collapsed": true
   },
   "outputs": [],
   "source": [
    "'''\n",
    "【课程1.2】  Numpy基础数据结构\n",
    "\n",
    "NumPy数组是一个多维数组对象，称为ndarray。其由两部分组成：\n",
    "① 实际的数据\n",
    "② 描述这些数据的元数据\n",
    "\n",
    "'''"
   ]
  },
  {
   "cell_type": "code",
   "execution_count": 11,
   "metadata": {},
   "outputs": [
    {
     "name": "stdout",
     "output_type": "stream",
     "text": [
      "[[1 2 3 4 5 6]\n",
      " [1 2 3 4 5 6]]\n",
      "2\n",
      "(2, 6)\n",
      "12\n",
      "int32\n",
      "4\n",
      "<memory at 0x0000029E6C2CF7E0>\n",
      "[[1 2 3 4 5 6]\n",
      " [1 2 3 4 5 6]]\n"
     ]
    }
   ],
   "source": [
    "# 多维数组ndarray\n",
    "\n",
    "import numpy as np\n",
    "\n",
    "ar = np.array([[1,2,3,4,5,6],[1,2,3,4,5,6]])\n",
    "print(ar)          # 输出数组，注意数组的格式：中括号，元素之间没有逗号（和列表区分）\n",
    "print(ar.ndim)     # 输出数组维度的个数（轴数），或者说“秩”，维度的数量也称rank\n",
    "print(ar.shape)    # 数组的维度，对于n行m列的数组，shape为（n，m）\n",
    "print(ar.size)     # 数组的元素总数，对于n行m列的数组，元素总数为n*m\n",
    "print(ar.dtype)    # 数组中元素的类型，类似type()（注意了，type()是函数，.dtype是方法）\n",
    "print(ar.itemsize) # 数组中每个元素的字节大小，int32l类型字节为4，float64的字节为8\n",
    "print(ar.data)     # 包含实际数组元素的缓冲区，由于一般通过数组的索引获取元素，所以通常不需要使用这个属性。\n",
    "ar   # 交互方式下输出，会有array(数组)\n",
    "print(ar)\n",
    "# 数组的基本属性\n",
    "# ① 数组的维数称为秩（rank），一维数组的秩为1，二维数组的秩为2，以此类推\n",
    "# ② 在NumPy中，每一个线性的数组称为是一个轴（axes），秩其实是描述轴的数量：\n",
    "# 比如说，二维数组相当于是两个一维数组，其中第一个一维数组中每个元素又是一个一维数组\n",
    "# 所以一维数组就是NumPy中的轴（axes），第一个轴相当于是底层数组，第二个轴是底层数组里的数组。\n",
    "# 而轴的数量——秩，就是数组的维数。 "
   ]
  },
  {
   "cell_type": "code",
   "execution_count": 2,
   "metadata": {},
   "outputs": [
    {
     "name": "stdout",
     "output_type": "stream",
     "text": [
      "[0 1 2 3 4 5 6 7 8 9] <class 'numpy.ndarray'> int32\n",
      "[ 1.    2.    3.14  4.    5.  ] <class 'numpy.ndarray'> float64\n",
      "[['1' '2' '3']\n",
      " ['a' 'b' 'c']] (2, 3) 2 6\n",
      "[[1, 2, 3] ('a', 'b', 'c', 'd')] (2,) 1 2\n"
     ]
    }
   ],
   "source": [
    "# 创建数组：array()函数，括号内可以是列表、元祖、数组、生成器等\n",
    "\n",
    "ar1 = np.array(range(10))   # 整型\n",
    "ar2 = np.array([1,2,3.14,4,5])   # 浮点型\n",
    "ar3 = np.array([[1,2,3],('a','b','c')])   # 二维数组：嵌套序列（列表，元祖均可）\n",
    "ar4 = np.array([[1,2,3],('a','b','c','d')])   # 注意嵌套序列数量不一会怎么样\n",
    "print(ar1,type(ar1),ar1.dtype)\n",
    "print(ar2,type(ar2),ar2.dtype)\n",
    "print(ar3,ar3.shape,ar3.ndim,ar3.size)     # 二维数组，共6个元素\n",
    "print(ar4,ar4.shape,ar4.ndim,ar4.size)     # 一维数组，共2个元素"
   ]
  },
  {
   "cell_type": "code",
   "execution_count": 3,
   "metadata": {},
   "outputs": [
    {
     "name": "stdout",
     "output_type": "stream",
     "text": [
      "[0 1 2 3 4 5 6 7 8 9]\n",
      "[ 0.  1.  2.  3.  4.  5.  6.  7.  8.  9.]\n",
      "[ 5  6  7  8  9 10 11]\n",
      "[  5.   7.   9.  11.]\n",
      "[   0    1    2 ..., 9997 9998 9999]\n"
     ]
    }
   ],
   "source": [
    "# 创建数组：arange()，类似range()，在给定间隔内返回均匀间隔的值。\n",
    "\n",
    "print(np.arange(10))    # 返回0-9，整型\n",
    "print(np.arange(10.0))  # 返回0.0-9.0，浮点型\n",
    "print(np.arange(5,12))  # 返回5-11\n",
    "print(np.arange(5.0,12,2))  # 返回5.0-12.0，步长为2\n",
    "print(np.arange(10000))  # 如果数组太大而无法打印，NumPy会自动跳过数组的中心部分，并只打印边角："
   ]
  },
  {
   "cell_type": "code",
   "execution_count": 12,
   "metadata": {},
   "outputs": [
    {
     "name": "stdout",
     "output_type": "stream",
     "text": [
      "[2.   2.25 2.5  2.75 3.  ] <class 'numpy.ndarray'>\n",
      "[2.  2.2 2.4 2.6 2.8]\n",
      "(array([2.  , 2.25, 2.5 , 2.75, 3.  ]), 0.25) <class 'tuple'>\n"
     ]
    }
   ],
   "source": [
    "# 创建数组：linspace():返回在间隔[开始，停止]上计算的num个均匀间隔的样本。\n",
    "\n",
    "ar1 = np.linspace(2.0, 3.0, num=5)\n",
    "ar2 = np.linspace(2.0, 3.0, num=5, endpoint=False)\n",
    "ar3 = np.linspace(2.0, 3.0, num=5, retstep=True)\n",
    "print(ar1,type(ar1))\n",
    "print(ar2)\n",
    "print(ar3,type(ar3))\n",
    "# numpy.linspace(start, stop, num=50, endpoint=True, retstep=False, dtype=None)\n",
    "# start：起始值，stop：结束值\n",
    "# num：生成样本数，默认为50\n",
    "# endpoint：如果为真，则停止是最后一个样本。否则，不包括在内。默认值为True。\n",
    "# retstep：如果为真，返回（样本，步骤），其中步长是样本之间的间距 → 输出为一个包含2个元素的元祖，第一个元素为array，第二个为步长实际值"
   ]
  },
  {
   "cell_type": "code",
   "execution_count": 5,
   "metadata": {},
   "outputs": [
    {
     "name": "stdout",
     "output_type": "stream",
     "text": [
      "[ 0.  0.  0.  0.  0.] float64\n",
      "[[0 0]\n",
      " [0 0]] int32\n",
      "------\n",
      "[[0 1 2 3 4]\n",
      " [5 6 7 8 9]]\n",
      "[[0 0 0 0 0]\n",
      " [0 0 0 0 0]]\n",
      "------\n",
      "[ 1.  1.  1.  1.  1.  1.  1.  1.  1.]\n",
      "[[[ 1.  1.  1.  1.]\n",
      "  [ 1.  1.  1.  1.]\n",
      "  [ 1.  1.  1.  1.]]\n",
      "\n",
      " [[ 1.  1.  1.  1.]\n",
      "  [ 1.  1.  1.  1.]\n",
      "  [ 1.  1.  1.  1.]]]\n",
      "[[1 1 1 1 1]\n",
      " [1 1 1 1 1]]\n"
     ]
    }
   ],
   "source": [
    "# 创建数组：zeros()/zeros_like()/ones()/ones_like()\n",
    "\n",
    "ar1 = np.zeros(5)  \n",
    "ar2 = np.zeros((2,2), dtype = np.int)\n",
    "print(ar1,ar1.dtype)\n",
    "print(ar2,ar2.dtype)\n",
    "print('------')\n",
    "# numpy.zeros(shape, dtype=float, order='C'):返回给定形状和类型的新数组，用零填充。\n",
    "# shape：数组纬度，二维以上需要用()，且输入参数为整数\n",
    "# dtype：数据类型，默认numpy.float64\n",
    "# order：是否在存储器中以C或Fortran连续（按行或列方式）存储多维数据。\n",
    "\n",
    "ar3 = np.array([list(range(5)),list(range(5,10))])\n",
    "ar4 = np.zeros_like(ar3)\n",
    "print(ar3)\n",
    "print(ar4)\n",
    "print('------')\n",
    "# 返回具有与给定数组相同的形状和类型的零数组，这里ar4根据ar3的形状和dtype创建一个全0的数组\n",
    "\n",
    "ar5 = np.ones(9)\n",
    "ar6 = np.ones((2,3,4))\n",
    "ar7 = np.ones_like(ar3)\n",
    "print(ar5)\n",
    "print(ar6)\n",
    "print(ar7)\n",
    "# ones()/ones_like()和zeros()/zeros_like()一样，只是填充为1"
   ]
  },
  {
   "cell_type": "code",
   "execution_count": 6,
   "metadata": {},
   "outputs": [
    {
     "name": "stdout",
     "output_type": "stream",
     "text": [
      "[[ 1.  0.  0.  0.  0.]\n",
      " [ 0.  1.  0.  0.  0.]\n",
      " [ 0.  0.  1.  0.  0.]\n",
      " [ 0.  0.  0.  1.  0.]\n",
      " [ 0.  0.  0.  0.  1.]]\n"
     ]
    }
   ],
   "source": [
    "# 创建数组：eye()\n",
    "\n",
    "print(np.eye(5))\n",
    "# 创建一个正方的N*N的单位矩阵，对角线值为1，其余为0"
   ]
  },
  {
   "cell_type": "markdown",
   "metadata": {},
   "source": [
    "ndarray的数据类型\n",
    "\n",
    "bool\t用一个字节存储的布尔类型（True或False）\n",
    "\n",
    "inti\t由所在平台决定其大小的整数（一般为int32或int64）\n",
    "\n",
    "int8\t一个字节大小，-128 至 127\n",
    "\n",
    "int16\t整数，-32768 至 32767\n",
    "\n",
    "int32\t整数，-2 ** 31 至 2 ** 32 -1\n",
    "\n",
    "int64\t整数，-2 ** 63 至 2 ** 63 - 1\n",
    "\n",
    "uint8\t无符号整数，0 至 255\n",
    "\n",
    "uint16\t无符号整数，0 至 65535\n",
    "\n",
    "uint32\t无符号整数，0 至 2 ** 32 - 1\n",
    "\n",
    "uint64\t无符号整数，0 至 2 ** 64 - 1\n",
    "\n",
    "float16\t半精度浮点数：16位，正负号1位，指数5位，精度10位\n",
    "\n",
    "float32\t单精度浮点数：32位，正负号1位，指数8位，精度23位\n",
    "\n",
    "float64或float\t双精度浮点数：64位，正负号1位，指数11位，精度52位\n",
    "\n",
    "complex64\t复数，分别用两个32位浮点数表示实部和虚部\n",
    "\n",
    "complex128或complex\t复数，分别用两个64位浮点数表示实部和虚部"
   ]
  },
  {
   "cell_type": "markdown",
   "metadata": {},
   "source": [
    "######## 本节课有作业，请查看 “课程作业.docx”  ########"
   ]
  },
  {
   "cell_type": "code",
   "execution_count": null,
   "metadata": {
    "collapsed": true
   },
   "outputs": [],
   "source": [
    "'''\n",
    "【课程1.3】  Numpy通用函数\n",
    "\n",
    "基本操作\n",
    "\n",
    "'''"
   ]
  },
  {
   "cell_type": "code",
   "execution_count": 7,
   "metadata": {},
   "outputs": [
    {
     "name": "stdout",
     "output_type": "stream",
     "text": [
      "[0 1 2 3 4 5 6 7 8 9] \n",
      " [0 1 2 3 4 5 6 7 8 9]\n",
      "[[ 1.  1.]\n",
      " [ 1.  1.]\n",
      " [ 1.  1.]\n",
      " [ 1.  1.]\n",
      " [ 1.  1.]] \n",
      " [[ 1.  1.  1.  1.  1.]\n",
      " [ 1.  1.  1.  1.  1.]]\n",
      "------\n",
      "[0 1 2 3 4 5 6 7 8 9] \n",
      " [[0 1 2 3 4]\n",
      " [5 6 7 8 9]]\n",
      "[[ 0.  0.  0.  0.  0.  0.  0.  0.]\n",
      " [ 0.  0.  0.  0.  0.  0.  0.  0.]\n",
      " [ 0.  0.  0.  0.  0.  0.  0.  0.]]\n",
      "[[ 0  1  2  3]\n",
      " [ 4  5  6  7]\n",
      " [ 8  9 10 11]]\n",
      "------\n",
      "[[0 1 2 3]\n",
      " [4 0 1 2]\n",
      " [3 4 0 1]]\n"
     ]
    }
   ],
   "source": [
    "# 数组形状：.T/.reshape()/.resize()\n",
    "\n",
    "ar1 = np.arange(10)\n",
    "ar2 = np.ones((5,2))\n",
    "print(ar1,'\\n',ar1.T)\n",
    "print(ar2,'\\n',ar2.T)\n",
    "print('------')\n",
    "# .T方法：转置，例如原shape为(3,4)/(2,3,4)，转置结果为(4,3)/(4,3,2) → 所以一维数组转置后结果不变\n",
    "\n",
    "ar3 = ar1.reshape(2,5)     # 用法1：直接将已有数组改变形状             \n",
    "ar4 = np.zeros((4,6)).reshape(3,8)   # 用法2：生成数组后直接改变形状\n",
    "ar5 = np.reshape(np.arange(12),(3,4))   # 用法3：参数内添加数组，目标形状\n",
    "print(ar1,'\\n',ar3)\n",
    "print(ar4)\n",
    "print(ar5)\n",
    "print('------')\n",
    "# numpy.reshape(a, newshape, order='C')：为数组提供新形状，而不更改其数据，所以元素数量需要一致！！\n",
    "\n",
    "ar6 = np.resize(np.arange(5),(3,4))\n",
    "print(ar6)\n",
    "# numpy.resize(a, new_shape)：返回具有指定形状的新数组，如有必要可重复填充所需数量的元素。\n",
    "# 注意了：.T/.reshape()/.resize()都是生成新的数组！！！"
   ]
  },
  {
   "cell_type": "code",
   "execution_count": 8,
   "metadata": {},
   "outputs": [
    {
     "name": "stdout",
     "output_type": "stream",
     "text": [
      "True\n",
      "[0 1 9 3 4 5 6 7 8 9] [0 1 9 3 4 5 6 7 8 9]\n",
      "False\n",
      "[9 1 9 3 4 5 6 7 8 9] [0 1 9 3 4 5 6 7 8 9]\n"
     ]
    }
   ],
   "source": [
    "# 数组的复制\n",
    "\n",
    "ar1 = np.arange(10)\n",
    "ar2 = ar1\n",
    "print(ar2 is ar1)\n",
    "ar1[2] = 9\n",
    "print(ar1,ar2)\n",
    "# 回忆python的赋值逻辑：指向内存中生成的一个值 → 这里ar1和ar2指向同一个值，所以ar1改变，ar2一起改变\n",
    "\n",
    "ar3 = ar1.copy()\n",
    "print(ar3 is ar1)\n",
    "ar1[0] = 9\n",
    "print(ar1,ar3)\n",
    "# copy方法生成数组及其数据的完整拷贝\n",
    "# 再次提醒：.T/.reshape()/.resize()都是生成新的数组！！！"
   ]
  },
  {
   "cell_type": "code",
   "execution_count": 9,
   "metadata": {},
   "outputs": [
    {
     "name": "stdout",
     "output_type": "stream",
     "text": [
      "[ 0.  1.  2.  3.  4.  5.  6.  7.  8.  9.] float64\n",
      "-----\n",
      "[0 1 2 3 4 5 6 7 8 9] int32\n",
      "[ 0.  1.  2.  3.  4.  5.  6.  7.  8.  9.] float64\n"
     ]
    }
   ],
   "source": [
    "# 数组类型转换：.astype()\n",
    "\n",
    "ar1 = np.arange(10,dtype=float)\n",
    "print(ar1,ar1.dtype)\n",
    "print('-----')\n",
    "# 可以在参数位置设置数组类型\n",
    "\n",
    "ar2 = ar1.astype(np.int32)\n",
    "print(ar2,ar2.dtype)\n",
    "print(ar1,ar1.dtype)\n",
    "# a.astype()：转换数组类型\n",
    "# 注意：养成好习惯，数组类型用np.int32，而不是直接int32"
   ]
  },
  {
   "cell_type": "code",
   "execution_count": 10,
   "metadata": {},
   "outputs": [
    {
     "name": "stdout",
     "output_type": "stream",
     "text": [
      "[0 1 2 3 4] (5,)\n",
      "[5 6 7 8] (4,)\n",
      "[0 1 2 3 4 5 6 7 8] (9,)\n",
      "[[1]\n",
      " [2]\n",
      " [3]] (3, 1)\n",
      "[['a']\n",
      " ['b']\n",
      " ['c']] (3, 1)\n",
      "[['1' 'a']\n",
      " ['2' 'b']\n",
      " ['3' 'c']] (3, 2)\n",
      "-----\n",
      "[0 1 2 3 4] (5,)\n",
      "[5 6 7 8 9] (5,)\n",
      "[[0 1 2 3 4]\n",
      " [5 6 7 8 9]] (2, 5)\n",
      "[[1]\n",
      " [2]\n",
      " [3]] (3, 1)\n",
      "[['a']\n",
      " ['b']\n",
      " ['c']\n",
      " ['d']] (4, 1)\n",
      "[['1']\n",
      " ['2']\n",
      " ['3']\n",
      " ['a']\n",
      " ['b']\n",
      " ['c']\n",
      " ['d']] (7, 1)\n",
      "-----\n",
      "[0 1 2 3 4] (5,)\n",
      "[5 6 7 8 9] (5,)\n",
      "[[0 1 2 3 4]\n",
      " [5 6 7 8 9]] (2, 5)\n",
      "[[0 5]\n",
      " [1 6]\n",
      " [2 7]\n",
      " [3 8]\n",
      " [4 9]] (5, 2)\n"
     ]
    }
   ],
   "source": [
    "# 数组堆叠\n",
    "\n",
    "a = np.arange(5)    # a为一维数组，5个元素\n",
    "b = np.arange(5,9) # b为一维数组,4个元素\n",
    "ar1 = np.hstack((a,b))  # 注意:((a,b))，这里形状可以不一样\n",
    "print(a,a.shape)\n",
    "print(b,b.shape)\n",
    "print(ar1,ar1.shape)\n",
    "a = np.array([[1],[2],[3]])   # a为二维数组，3行1列\n",
    "b = np.array([['a'],['b'],['c']])  # b为二维数组，3行1列\n",
    "ar2 = np.hstack((a,b))  # 注意:((a,b))，这里形状必须一样\n",
    "print(a,a.shape)\n",
    "print(b,b.shape)\n",
    "print(ar2,ar2.shape)\n",
    "print('-----')\n",
    "# numpy.hstack(tup)：水平（按列顺序）堆叠数组\n",
    "\n",
    "a = np.arange(5)    \n",
    "b = np.arange(5,10)\n",
    "ar1 = np.vstack((a,b))\n",
    "print(a,a.shape)\n",
    "print(b,b.shape)\n",
    "print(ar1,ar1.shape)\n",
    "a = np.array([[1],[2],[3]])   \n",
    "b = np.array([['a'],['b'],['c'],['d']])   \n",
    "ar2 = np.vstack((a,b))  # 这里形状可以不一样\n",
    "print(a,a.shape)\n",
    "print(b,b.shape)\n",
    "print(ar2,ar2.shape)\n",
    "print('-----')\n",
    "# numpy.vstack(tup)：垂直（按列顺序）堆叠数组\n",
    "\n",
    "a = np.arange(5)    \n",
    "b = np.arange(5,10)\n",
    "ar1 = np.stack((a,b))\n",
    "ar2 = np.stack((a,b),axis = 1)\n",
    "print(a,a.shape)\n",
    "print(b,b.shape)\n",
    "print(ar1,ar1.shape)\n",
    "print(ar2,ar2.shape)\n",
    "# numpy.stack(arrays, axis=0)：沿着新轴连接数组的序列，形状必须一样！\n",
    "# 重点解释axis参数的意思，假设两个数组[1 2 3]和[4 5 6]，shape均为(3,0)\n",
    "# axis=0：[[1 2 3] [4 5 6]]，shape为(2,3)\n",
    "# axis=1：[[1 4] [2 5] [3 6]]，shape为(3,2)"
   ]
  },
  {
   "cell_type": "code",
   "execution_count": 11,
   "metadata": {},
   "outputs": [
    {
     "name": "stdout",
     "output_type": "stream",
     "text": [
      "[[ 0  1  2  3]\n",
      " [ 4  5  6  7]\n",
      " [ 8  9 10 11]\n",
      " [12 13 14 15]]\n",
      "[array([[ 0,  1],\n",
      "       [ 4,  5],\n",
      "       [ 8,  9],\n",
      "       [12, 13]]), array([[ 2,  3],\n",
      "       [ 6,  7],\n",
      "       [10, 11],\n",
      "       [14, 15]])] <class 'list'>\n",
      "[array([[0, 1, 2, 3]]), array([[4, 5, 6, 7]]), array([[ 8,  9, 10, 11]]), array([[12, 13, 14, 15]])] <class 'list'>\n"
     ]
    }
   ],
   "source": [
    "# 数组拆分 \n",
    "\n",
    "ar = np.arange(16).reshape(4,4)\n",
    "ar1 = np.hsplit(ar,2)\n",
    "print(ar)\n",
    "print(ar1,type(ar1))\n",
    "# numpy.hsplit(ary, indices_or_sections)：将数组水平（逐列）拆分为多个子数组 → 按列拆分\n",
    "# 输出结果为列表，列表中元素为数组\n",
    "\n",
    "ar2 = np.vsplit(ar,4)\n",
    "print(ar2,type(ar2))\n",
    "# numpy.vsplit(ary, indices_or_sections)：:将数组垂直（行方向）拆分为多个子数组 → 按行拆"
   ]
  },
  {
   "cell_type": "code",
   "execution_count": 12,
   "metadata": {},
   "outputs": [
    {
     "name": "stdout",
     "output_type": "stream",
     "text": [
      "[[10 11 12]\n",
      " [13 14 15]]\n",
      "[[ 0  2  4]\n",
      " [ 6  8 10]]\n",
      "[[ 1.          0.5         0.33333333]\n",
      " [ 0.25        0.2         0.16666667]]\n",
      "[[ 0.          1.          1.41421356]\n",
      " [ 1.73205081  2.          2.23606798]]\n",
      "2.5\n",
      "5\n",
      "0\n",
      "1.70782512766\n",
      "2.91666666667\n",
      "15 [3 5 7]\n",
      "[1 2 3 4 5 6]\n"
     ]
    }
   ],
   "source": [
    "# 数组简单运算\n",
    "\n",
    "ar = np.arange(6).reshape(2,3)\n",
    "print(ar + 10)   # 加法\n",
    "print(ar * 2)   # 乘法\n",
    "print(1 / (ar+1))  # 除法\n",
    "print(ar ** 0.5)  # 幂\n",
    "# 与标量的运算\n",
    "\n",
    "print(ar.mean())  # 求平均值\n",
    "print(ar.max())  # 求最大值\n",
    "print(ar.min())  # 求最小值\n",
    "print(ar.std())  # 求标准差\n",
    "print(ar.var())  # 求方差\n",
    "print(ar.sum(), np.sum(ar,axis = 0))  # 求和，np.sum() → axis为0，按列求和；axis为1，按行求和\n",
    "print(np.sort(np.array([1,4,3,2,5,6])))  # 排序\n",
    "# 常用函数"
   ]
  },
  {
   "cell_type": "markdown",
   "metadata": {},
   "source": [
    "######## 本节课有作业，请查看 “课程作业.docx”  ########"
   ]
  },
  {
   "cell_type": "code",
   "execution_count": null,
   "metadata": {
    "collapsed": true
   },
   "outputs": [],
   "source": [
    "'''\n",
    "【课程1.4】  Numpy索引及切片\n",
    "\n",
    "核心：基本索引及切片 / 布尔型索引及切片\n",
    "\n",
    "'''"
   ]
  },
  {
   "cell_type": "code",
   "execution_count": 13,
   "metadata": {},
   "outputs": [
    {
     "name": "stdout",
     "output_type": "stream",
     "text": [
      "[ 0  1  2  3  4  5  6  7  8  9 10 11 12 13 14 15 16 17 18 19]\n",
      "4\n",
      "[3 4 5]\n",
      "-----\n",
      "[[ 0  1  2  3]\n",
      " [ 4  5  6  7]\n",
      " [ 8  9 10 11]\n",
      " [12 13 14 15]] 数组轴数为2\n",
      "[ 8  9 10 11] 数组轴数为1\n",
      "9\n",
      "[[ 4  5  6  7]\n",
      " [ 8  9 10 11]] 数组轴数为2\n",
      "10\n",
      "[[1 2 3]\n",
      " [5 6 7]]\n",
      "-----\n",
      "[[[0 1]\n",
      "  [2 3]]\n",
      "\n",
      " [[4 5]\n",
      "  [6 7]]] 数组轴数为3\n",
      "[[0 1]\n",
      " [2 3]] 数组轴数为2\n",
      "[0 1] 数组轴数为1\n",
      "1 数组轴数为0\n"
     ]
    }
   ],
   "source": [
    "# 基本索引及切片\n",
    "\n",
    "ar = np.arange(20)\n",
    "print(ar)\n",
    "print(ar[4])\n",
    "print(ar[3:6])\n",
    "print('-----')\n",
    "# 一维数组索引及切片\n",
    "\n",
    "ar = np.arange(16).reshape(4,4)\n",
    "print(ar, '数组轴数为%i' %ar.ndim)   # 4*4的数组\n",
    "print(ar[2],  '数组轴数为%i' %ar[2].ndim)  # 切片为下一维度的一个元素，所以是一维数组\n",
    "print(ar[2][1]) # 二次索引，得到一维数组中的一个值\n",
    "print(ar[1:3],  '数组轴数为%i' %ar[1:3].ndim)  # 切片为两个一维数组组成的二维数组\n",
    "print(ar[2,2])  # 切片数组中的第三行第三列 → 10\n",
    "print(ar[:2,1:])  # 切片数组中的1,2行、2,3,4列 → 二维数组\n",
    "print('-----')\n",
    "# 二维数组索引及切片\n",
    "\n",
    "ar = np.arange(8).reshape(2,2,2)\n",
    "print(ar, '数组轴数为%i' %ar.ndim)   # 2*2*2的数组\n",
    "print(ar[0],  '数组轴数为%i' %ar[0].ndim)  # 三维数组的下一个维度的第一个元素 → 一个二维数组\n",
    "print(ar[0][0],  '数组轴数为%i' %ar[0][0].ndim)  # 三维数组的下一个维度的第一个元素下的第一个元素 → 一个一维数组\n",
    "print(ar[0][0][1],  '数组轴数为%i' %ar[0][0][1].ndim)  \n",
    "# **三维数组索引及切片"
   ]
  },
  {
   "cell_type": "code",
   "execution_count": 14,
   "metadata": {},
   "outputs": [
    {
     "name": "stdout",
     "output_type": "stream",
     "text": [
      "[[ 0  1  2  3]\n",
      " [ 4  5  6  7]\n",
      " [ 8  9 10 11]]\n",
      "[ True False  True]\n",
      "[ True  True False False]\n",
      "[[ 0  1  2  3]\n",
      " [ 8  9 10 11]]\n",
      "[[0 1]\n",
      " [4 5]\n",
      " [8 9]]\n",
      "[[False False False False]\n",
      " [False False  True  True]\n",
      " [ True  True  True  True]]\n",
      "[ 6  7  8  9 10 11]\n"
     ]
    }
   ],
   "source": [
    "# 布尔型索引及切片\n",
    "\n",
    "ar = np.arange(12).reshape(3,4)\n",
    "i = np.array([True,False,True])\n",
    "j = np.array([True,True,False,False])\n",
    "print(ar)\n",
    "print(i)\n",
    "print(j)\n",
    "print(ar[i,:])  # 在第一维度做判断，只保留True，这里第一维度就是行，ar[i,:] = ar[i]（简单书写格式）\n",
    "print(ar[:,j])  # 在第二维度做判断，这里如果ar[:,i]会有警告，因为i是3个元素，而ar在列上有4个\n",
    "# 布尔型索引：以布尔型的矩阵去做筛选\n",
    "\n",
    "m = ar > 5\n",
    "print(m)  # 这里m是一个判断矩阵\n",
    "print(ar[m])  # 用m判断矩阵去筛选ar数组中>5的元素 → 重点！后面的pandas判断方式原理就来自此处"
   ]
  },
  {
   "cell_type": "code",
   "execution_count": 15,
   "metadata": {},
   "outputs": [
    {
     "name": "stdout",
     "output_type": "stream",
     "text": [
      "[0 1 2 3 4 5 6 7 8 9]\n",
      "[  0   1   2   3   4 100   6 200 200   9]\n",
      "[0 1 2 3 4 5 6 7 8 9]\n",
      "[  0   1   2   3   4   5   6 200 200   9]\n"
     ]
    }
   ],
   "source": [
    "# 数组索引及切片的值更改、复制\n",
    "\n",
    "ar = np.arange(10)\n",
    "print(ar)\n",
    "ar[5] = 100\n",
    "ar[7:9] = 200\n",
    "print(ar)\n",
    "# 一个标量赋值给一个索引/切片时，会自动改变/传播原始数组\n",
    "\n",
    "ar = np.arange(10)\n",
    "b = ar.copy()\n",
    "b[7:9] = 200\n",
    "print(ar)\n",
    "print(b)\n",
    "# 复制"
   ]
  },
  {
   "cell_type": "markdown",
   "metadata": {},
   "source": [
    "######## 本节课有作业，请查看 “课程作业.docx”  ########"
   ]
  },
  {
   "cell_type": "code",
   "execution_count": null,
   "metadata": {
    "collapsed": true
   },
   "outputs": [],
   "source": [
    "'''\n",
    "【课程1.5】  Numpy随机数\n",
    "\n",
    "numpy.random包含多种概率分布的随机样本，是数据分析辅助的重点工具之一\n",
    "\n",
    "'''"
   ]
  },
  {
   "cell_type": "code",
   "execution_count": 16,
   "metadata": {},
   "outputs": [
    {
     "name": "stdout",
     "output_type": "stream",
     "text": [
      "[[ 0.17875618 -1.19367146 -1.29127688  1.11541622]\n",
      " [ 1.48126355 -0.81119863 -0.94187702 -0.13203948]\n",
      " [ 0.11418808 -2.34415548  0.17391121  1.4822019 ]\n",
      " [ 0.46157021  0.43227682  0.58489093  0.74553395]]\n"
     ]
    }
   ],
   "source": [
    "# 随机数生成\n",
    "\n",
    "samples = np.random.normal(size=(4,4))\n",
    "print(samples)\n",
    "# 生成一个标准正太分布的4*4样本值"
   ]
  },
  {
   "cell_type": "code",
   "execution_count": 14,
   "metadata": {},
   "outputs": [
    {
     "name": "stderr",
     "output_type": "stream",
     "text": [
      "UsageError: Line magic function `%` not found.\n"
     ]
    }
   ],
   "source": [
    "# numpy.random.rand(d0, d1, ..., dn)：生成一个[0,1)之间的随机浮点数或N维浮点数组 —— 均匀分布\n",
    "\n",
    "import matplotlib.pyplot as plt  # 导入matplotlib模块，用于图表辅助分析\n",
    "% matplotlib inline \n",
    "# 魔法函数，每次运行自动生成图表\n",
    "\n",
    "a = np.random.rand()\n",
    "print(a,type(a))  # 生成一个随机浮点数\n",
    "\n",
    "b = np.random.rand(4)\n",
    "print(b,type(b))  # 生成形状为4的一维数组\n",
    "\n",
    "c = np.random.rand(2,3)\n",
    "print(c,type(c))  # 生成形状为2*3的二维数组，注意这里不是((2,3))\n",
    "\n",
    "samples1 = np.random.rand(1000)\n",
    "samples2 = np.random.rand(1000)\n",
    "plt.scatter(samples1,samples2)\n",
    "# 生成1000个均匀分布的样本值"
   ]
  },
  {
   "cell_type": "code",
   "execution_count": 15,
   "metadata": {},
   "outputs": [
    {
     "data": {
      "text/plain": [
       "<matplotlib.collections.PathCollection at 0x29e6e18c780>"
      ]
     },
     "execution_count": 15,
     "metadata": {},
     "output_type": "execute_result"
    },
    {
     "data": {
      "image/png": "[encoded data removed]",
      "text/plain": [
       "<Figure size 432x288 with 1 Axes>"
      ]
     },
     "metadata": {
      "needs_background": "light"
     },
     "output_type": "display_data"
    }
   ],
   "source": [
    "#  numpy.random.randn(d0, d1, ..., dn)：生成一个浮点数或N维浮点数组 —— 正态分布\n",
    "\n",
    "samples1 = np.random.randn(1000)\n",
    "samples2 = np.random.randn(1000)\n",
    "plt.scatter(samples1,samples2)\n",
    "# randn和rand的参数用法一样\n",
    "# 生成1000个正太的样本值"
   ]
  },
  {
   "cell_type": "code",
   "execution_count": 19,
   "metadata": {},
   "outputs": [
    {
     "name": "stdout",
     "output_type": "stream",
     "text": [
      "0\n",
      "[0 1 1 0 1]\n",
      "[2 5 2 3 5]\n",
      "[[0 1 1]\n",
      " [1 1 1]]\n",
      "[[4 4 3]\n",
      " [2 3 3]]\n"
     ]
    }
   ],
   "source": [
    "# numpy.random.randint(low, high=None, size=None, dtype='l')：生成一个整数或N维整数数组\n",
    "# 若high不为None时，取[low,high)之间随机整数，否则取值[0,low)之间随机整数，且high必须大于low \n",
    "# dtype参数：只能是int类型  \n",
    "\n",
    "print(np.random.randint(2))\n",
    "# low=2：生成1个[0,2)之间随机整数  \n",
    "\n",
    "print(np.random.randint(2,size=5))\n",
    "# low=2,size=5 ：生成5个[0,2)之间随机整数\n",
    "\n",
    "print(np.random.randint(2,6,size=5))\n",
    "# low=2,high=6,size=5：生成5个[2,6)之间随机整数  \n",
    "\n",
    "print(np.random.randint(2,size=(2,3)))\n",
    "# low=2,size=(2,3)：生成一个2x3整数数组,取数范围：[0,2)随机整数 \n",
    "\n",
    "print(np.random.randint(2,6,(2,3)))\n",
    "# low=2,high=6,size=(2,3)：生成一个2*3整数数组,取值范围：[2,6)随机整数  "
   ]
  },
  {
   "cell_type": "markdown",
   "metadata": {},
   "source": [
    "######## 本节课有作业，请查看 “课程作业.docx”  ########"
   ]
  },
  {
   "cell_type": "code",
   "execution_count": null,
   "metadata": {
    "collapsed": true
   },
   "outputs": [],
   "source": [
    "'''\n",
    "【课程1.6】  Numpy数据的输入输出\n",
    "\n",
    "numpy读取/写入数组数据、文本数据\n",
    "\n",
    "'''"
   ]
  },
  {
   "cell_type": "code",
   "execution_count": 20,
   "metadata": {},
   "outputs": [
    {
     "name": "stdout",
     "output_type": "stream",
     "text": [
      "[[ 0.57358458  0.71126411  0.22317828  0.69640773  0.97406015]\n",
      " [ 0.83007851  0.63460575  0.37424462  0.49711017  0.42822812]\n",
      " [ 0.51354459  0.96671598  0.21427951  0.91429226  0.00393325]\n",
      " [ 0.680534    0.31516091  0.79848663  0.35308657  0.21576843]\n",
      " [ 0.38634472  0.47153005  0.6457086   0.94983697  0.97670458]]\n"
     ]
    }
   ],
   "source": [
    "# 存储数组数据 .npy文件\n",
    "\n",
    "import os\n",
    "os.chdir('C:/Users/Hjx/Desktop/')\n",
    "\n",
    "ar = np.random.rand(5,5)\n",
    "print(ar)\n",
    "np.save('arraydata.npy', ar)\n",
    "# 也可以直接 np.save('C:/Users/Hjx/Desktop/arraydata.npy', ar)"
   ]
  },
  {
   "cell_type": "code",
   "execution_count": 21,
   "metadata": {},
   "outputs": [
    {
     "name": "stdout",
     "output_type": "stream",
     "text": [
      "[[ 0.57358458  0.71126411  0.22317828  0.69640773  0.97406015]\n",
      " [ 0.83007851  0.63460575  0.37424462  0.49711017  0.42822812]\n",
      " [ 0.51354459  0.96671598  0.21427951  0.91429226  0.00393325]\n",
      " [ 0.680534    0.31516091  0.79848663  0.35308657  0.21576843]\n",
      " [ 0.38634472  0.47153005  0.6457086   0.94983697  0.97670458]]\n"
     ]
    }
   ],
   "source": [
    "# 读取数组数据 .npy文件\n",
    "\n",
    "ar_load =np.load('arraydata.npy')\n",
    "print(ar_load)\n",
    "# 也可以直接 np.load('C:/Users/Hjx/Desktop/arraydata.npy')"
   ]
  },
  {
   "cell_type": "code",
   "execution_count": 22,
   "metadata": {},
   "outputs": [
    {
     "name": "stdout",
     "output_type": "stream",
     "text": [
      "[[ 0.28280684  0.66188985  0.00372083  0.54051044  0.68553963]\n",
      " [ 0.9138449   0.37056825  0.62813711  0.83032184  0.70196173]\n",
      " [ 0.63438739  0.86552157  0.68294764  0.2959724   0.62337767]\n",
      " [ 0.67411154  0.87678919  0.53732168  0.90366896  0.70480366]\n",
      " [ 0.00936579  0.32914898  0.30001813  0.66198967  0.04336824]]\n"
     ]
    }
   ],
   "source": [
    "# 存储/读取文本文件\n",
    "\n",
    "ar = np.random.rand(5,5)\n",
    "np.savetxt('array.txt',ar, delimiter=',')\n",
    "# np.savetxt(fname, X, fmt='%.18e', delimiter=' ', newline='\\n', header='', footer='', comments='# ')：存储为文本txt文件\n",
    "\n",
    "ar_loadtxt = np.loadtxt('array.txt', delimiter=',')\n",
    "print(ar_loadtxt)\n",
    "# 也可以直接 np.loadtxt('C:/Users/Hjx/Desktop/array.txt')"
   ]
  },
  {
   "cell_type": "markdown",
   "metadata": {},
   "source": [
    "######## 本节课有作业，请查看 “课程作业.docx”  ########"
   ]
  }
 ],
 "metadata": {
  "anaconda-cloud": {},
  "kernelspec": {
   "display_name": "Python 3",
   "language": "python",
   "name": "python3"
  },
  "language_info": {
   "codemirror_mode": {
    "name": "ipython",
    "version": 3
   },
   "file_extension": ".py",
   "mimetype": "text/x-python",
   "name": "python",
   "nbconvert_exporter": "python",
   "pygments_lexer": "ipython3",
   "version": "3.7.3"
  }
 },
 "nbformat": 4,
 "nbformat_minor": 1
}
